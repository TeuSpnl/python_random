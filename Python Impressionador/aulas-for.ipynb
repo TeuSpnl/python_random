{
 "cells": [
  {
   "cell_type": "code",
   "execution_count": 5,
   "metadata": {},
   "outputs": [
    {
     "name": "stdout",
     "output_type": "stream",
     "text": [
      "0: coca ... qtd: 1200\n",
      "1: pepsi ... qtd: 300\n",
      "2: guarana ... qtd: 800\n",
      "3: skol ... qtd: 1500\n",
      "4: brahma ... qtd: 1900\n",
      "5: agua ... qtd: 2750\n",
      "6: del valle ... qtd: 400\n",
      "7: dolly ... qtd: 20\n",
      "dolly é menor que 50 hahahahahhaha\n",
      "8: red bull ... qtd: 23\n",
      "red bull é menor que 50 hahahahahhaha\n",
      "9: cachaça ... qtd: 70\n",
      "10: vinho tinto ... qtd: 90\n",
      "11: vodka ... qtd: 80\n",
      "12: vinho branco ... qtd: 1100\n",
      "13: tequila ... qtd: 999\n",
      "14: champagne ... qtd: 900\n",
      "15: gin ... qtd: 880\n",
      "16: guaracamp ... qtd: 870\n",
      "17: matte ... qtd: 50\n",
      "18: leite de castanha ... qtd: 1111\n",
      "19: leite ... qtd: 120\n",
      "20: jurupinga ... qtd: 300\n",
      "21: sprite ... qtd: 450\n",
      "22: fanta ... qtd: 800\n"
     ]
    }
   ],
   "source": [
    "estoque = [1200, 300, 800, 1500, 1900, 2750, 400, 20, 23, 70, 90, 80, 1100, 999, 900, 880, 870, 50, 1111, 120, 300, 450, 800]\n",
    "produtos = ['coca', 'pepsi', 'guarana', 'skol', 'brahma', 'agua', 'del valle', 'dolly', 'red bull', 'cachaça', 'vinho tinto', 'vodka', 'vinho branco', 'tequila', 'champagne', 'gin', 'guaracamp', 'matte', 'leite de castanha', 'leite', 'jurupinga', 'sprite', 'fanta']\n",
    "min = 50\n",
    "\n",
    "for i, qtd in enumerate(estoque):\n",
    "    print(f\"{i}: {produtos[i]} ... qtd: {qtd}\")\n",
    "    if qtd < min:\n",
    "        print(produtos[i], \"é menor que 50 hahahahahhaha\")"
   ]
  },
  {
   "cell_type": "code",
   "execution_count": null,
   "metadata": {},
   "outputs": [],
   "source": []
  }
 ],
 "metadata": {
  "interpreter": {
   "hash": "5d9fba1cd5e1ffbfbb421c0ed9a1d458d6f881796a532c13386a7fee90909a26"
  },
  "kernelspec": {
   "display_name": "Python 3.10.0 64-bit",
   "language": "python",
   "name": "python3"
  },
  "language_info": {
   "codemirror_mode": {
    "name": "ipython",
    "version": 3
   },
   "file_extension": ".py",
   "mimetype": "text/x-python",
   "name": "python",
   "nbconvert_exporter": "python",
   "pygments_lexer": "ipython3",
   "version": "3.10.5"
  },
  "orig_nbformat": 4
 },
 "nbformat": 4,
 "nbformat_minor": 2
}
